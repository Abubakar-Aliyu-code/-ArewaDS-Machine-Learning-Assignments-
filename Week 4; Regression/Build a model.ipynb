{
 "cells": [
  {
   "cell_type": "code",
   "execution_count": 1,
   "metadata": {},
   "outputs": [
    {
     "ename": "AttributeError",
     "evalue": "module 'sklearn.datasets' has no attribute 'data'",
     "output_type": "error",
     "traceback": [
      "\u001b[1;31m---------------------------------------------------------------------------\u001b[0m",
      "\u001b[1;31mAttributeError\u001b[0m                            Traceback (most recent call last)",
      "Cell \u001b[1;32mIn[1], line 10\u001b[0m\n\u001b[0;32m      8\u001b[0m data \u001b[39m=\u001b[39m pd\u001b[39m.\u001b[39mread_csv (\u001b[39m'\u001b[39m\u001b[39mC:\u001b[39m\u001b[39m\\\\\u001b[39;00m\u001b[39mUsers\u001b[39m\u001b[39m\\\u001b[39m\u001b[39mHP\u001b[39m\u001b[39m\\\u001b[39m\u001b[39mDesktop\u001b[39m\u001b[39m\\\\\u001b[39;00m\u001b[39m-ArewaDS-Machine-Learning-Assignments-\u001b[39m\u001b[39m\\\\\u001b[39;00m\u001b[39mData\u001b[39m\u001b[39m\\\\\u001b[39;00m\u001b[39mUS-pumpkins.csv\u001b[39m\u001b[39m'\u001b[39m)\n\u001b[0;32m      9\u001b[0m \u001b[39m#data.tail()\u001b[39;00m\n\u001b[1;32m---> 10\u001b[0m X,y \u001b[39m=\u001b[39m datasets\u001b[39m.\u001b[39;49mdata(return_X_y\u001b[39m=\u001b[39m\u001b[39mTrue\u001b[39;00m)\n\u001b[0;32m     12\u001b[0m data \u001b[39m=\u001b[39m data[data[\u001b[39m'\u001b[39m\u001b[39mPackage\u001b[39m\u001b[39m'\u001b[39m]\u001b[39m.\u001b[39mstr\u001b[39m.\u001b[39mcontains(\u001b[39m'\u001b[39m\u001b[39mbushel\u001b[39m\u001b[39m'\u001b[39m, case\u001b[39m=\u001b[39m\u001b[39mTrue\u001b[39;00m, regex\u001b[39m=\u001b[39m\u001b[39mTrue\u001b[39;00m)]\n\u001b[0;32m     14\u001b[0m \u001b[39m#Check if there is missing data in the current dataframe:\u001b[39;00m\n\u001b[0;32m     15\u001b[0m \u001b[39m#data.isnull().sum()\u001b[39;00m\n\u001b[0;32m     16\u001b[0m \n\u001b[0;32m     17\u001b[0m \u001b[39m#To make your dataframe easier to work with, drop several of its columns, using drop(), keeping only the columns you need:\u001b[39;00m\n",
      "\u001b[1;31mAttributeError\u001b[0m: module 'sklearn.datasets' has no attribute 'data'"
     ]
    }
   ],
   "source": [
    "import pandas as pd\n",
    "import matplotlib.pyplot as plt\n",
    "from datetime import datetime\n",
    "import numpy as np\n",
    "from sklearn import datasets, linear_model, model_selection\n",
    "\n",
    "\n",
    "data = pd.read_csv ('C:\\\\Users\\HP\\Desktop\\\\-ArewaDS-Machine-Learning-Assignments-\\\\Data\\\\US-pumpkins.csv')\n",
    "#data.tail()\n",
    "X,y = datasets.data(return_X_y=True)\n",
    "\n",
    "data = data[data['Package'].str.contains('bushel', case=True, regex=True)]\n",
    "\n",
    "#Check if there is missing data in the current dataframe:\n",
    "#data.isnull().sum()\n",
    "\n",
    "#To make your dataframe easier to work with, drop several of its columns, using drop(), keeping only the columns you need:\n",
    "new_columns = ['Package', 'DayOfYear', 'Variety', 'City Name', 'Month', 'Low Price', 'High Price', 'Date']\n",
    "data = data.drop([c for c in data.columns if c not in new_columns], axis=1)\n",
    "#data.tail()\n",
    "\n",
    "#Determine average price of pumpkin\n",
    "\n",
    "# average price = low price + high price\n",
    "\n",
    "price = (data['Low Price'] + data['High Price']) / 2\n",
    "#print(price)\n",
    "day_of_year = pd.to_datetime(data['Date']).apply(lambda dt: (dt-datetime(dt.year,1,1)).days)\n",
    "#print(day_of_year)\n",
    "\n",
    "month = pd.DatetimeIndex(data['Date']).month\n",
    "#print(month)\n",
    "\n",
    "\n",
    "#Creating dataframe for data...\n",
    "\n",
    "new_data = pd.DataFrame({'Month': month, 'DayOfYear': day_of_year, 'Variety': data['Variety'], 'City': data['City Name'], 'Package': data['Package'], 'Low Price': data['Low Price'],'High Price': data['High Price'], 'Price': price})\n",
    "\n",
    "#The bushel amount varies per row! Normalize the pricing to show the pricing per bushel so that you can analyze the pricing per unit based on their bushel measurement. \n",
    "new_data.loc[new_data['Package'].str.contains('1 1/9'), 'Price'] = price/(1 + 1/9)\n",
    "new_data.loc[new_data['Package'].str.contains('1/2'), 'Price'] = price/(1/2)\n",
    "#print(new_data)\n",
    "\n",
    "X_train, X_test, y_train, y_test = model_selection.train_test_split(X, y, test_size=0.33)\n",
    "\n",
    "model = linear_model.LinearRegression()\n",
    "model.fit(X_train, y_train)\n",
    "y_pred = model.predict(X_test)\n",
    "\n",
    "plt.scatter(day_of_year, price)\n",
    "plt.show()\n"
   ]
  }
 ],
 "metadata": {
  "kernelspec": {
   "display_name": "base",
   "language": "python",
   "name": "python3"
  },
  "language_info": {
   "codemirror_mode": {
    "name": "ipython",
    "version": 3
   },
   "file_extension": ".py",
   "mimetype": "text/x-python",
   "name": "python",
   "nbconvert_exporter": "python",
   "pygments_lexer": "ipython3",
   "version": "3.9.13"
  },
  "orig_nbformat": 4
 },
 "nbformat": 4,
 "nbformat_minor": 2
}
