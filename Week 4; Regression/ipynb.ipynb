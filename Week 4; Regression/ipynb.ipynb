{
 "cells": [
  {
   "cell_type": "code",
   "execution_count": 25,
   "metadata": {},
   "outputs": [
    {
     "name": "stdout",
     "output_type": "stream",
     "text": [
      "Int64Index([ 4,  5,  9,  9, 11, 11,  9,  9, 10, 10,\n",
      "            ...\n",
      "             9,  9,  9,  9,  9,  9,  9,  9,  9,  9],\n",
      "           dtype='int64', name='Date', length=1757)\n"
     ]
    }
   ],
   "source": [
    "#PPREPARING US-pumpkins.csv FOR ANALYSIS\n",
    "import pandas as pd\n",
    "data = pd.read_csv ('C:\\\\Users\\HP\\Desktop\\\\-ArewaDS-Machine-Learning-Assignments-\\\\Data\\\\US-pumpkins.csv')\n",
    "#data.tail()\n",
    "\n",
    "#Check if there is missing data in the current dataframe:\n",
    "#data.isnull().sum()\n",
    "\n",
    "#To make your dataframe easier to work with, drop several of its columns, using drop(), keeping only the columns you need:\n",
    "new_columns = ['Package', 'Month', 'Low Price', 'High Price', 'Date']\n",
    "data = data.drop([c for c in data.columns if c not in new_columns], axis=1)\n",
    "data.tail()\n",
    "\n",
    "#Determine average price of pumpkin\n",
    "\n",
    "# average price = low price + high price\n",
    "\n",
    "price = (data['Low Price'] + data['High Price']) / 2\n",
    "#print(price)\n",
    "\n",
    "month = pd.DatetimeIndex(data['Date']).month\n",
    "#print(month)"
   ]
  }
 ],
 "metadata": {
  "kernelspec": {
   "display_name": "base",
   "language": "python",
   "name": "python3"
  },
  "language_info": {
   "codemirror_mode": {
    "name": "ipython",
    "version": 3
   },
   "file_extension": ".py",
   "mimetype": "text/x-python",
   "name": "python",
   "nbconvert_exporter": "python",
   "pygments_lexer": "ipython3",
   "version": "3.9.13"
  },
  "orig_nbformat": 4
 },
 "nbformat": 4,
 "nbformat_minor": 2
}
