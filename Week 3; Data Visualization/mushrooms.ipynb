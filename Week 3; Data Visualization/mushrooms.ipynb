{
 "cells": [
  {
   "cell_type": "code",
   "execution_count": 27,
   "metadata": {},
   "outputs": [
    {
     "ename": "ModuleNotFoundError",
     "evalue": "No module named 'pywaffle'",
     "output_type": "error",
     "traceback": [
      "\u001b[1;31m---------------------------------------------------------------------------\u001b[0m",
      "\u001b[1;31mModuleNotFoundError\u001b[0m                       Traceback (most recent call last)",
      "Cell \u001b[1;32mIn[27], line 3\u001b[0m\n\u001b[0;32m      1\u001b[0m \u001b[39mimport\u001b[39;00m \u001b[39mpandas\u001b[39;00m \u001b[39mas\u001b[39;00m \u001b[39mpd\u001b[39;00m\n\u001b[0;32m      2\u001b[0m \u001b[39mimport\u001b[39;00m \u001b[39mmatplotlib\u001b[39;00m\u001b[39m.\u001b[39;00m\u001b[39mpyplot\u001b[39;00m \u001b[39mas\u001b[39;00m \u001b[39mplt\u001b[39;00m\n\u001b[1;32m----> 3\u001b[0m \u001b[39mfrom\u001b[39;00m \u001b[39mpywaffle\u001b[39;00m \u001b[39mimport\u001b[39;00m Waffle \n\u001b[0;32m      5\u001b[0m mushrooms \u001b[39m=\u001b[39m pd\u001b[39m.\u001b[39mread_csv (\u001b[39m'\u001b[39m\u001b[39mC:\u001b[39m\u001b[39m\\\\\u001b[39;00m\u001b[39mUsers\u001b[39m\u001b[39m\\\\\u001b[39;00m\u001b[39mHP\u001b[39m\u001b[39m\\\\\u001b[39;00m\u001b[39mDesktop\u001b[39m\u001b[39m\\\\\u001b[39;00m\u001b[39m-ArewaDS-Machine-Learning-Assignments-\u001b[39m\u001b[39m\\\\\u001b[39;00m\u001b[39mData\u001b[39m\u001b[39m\\\\\u001b[39;00m\u001b[39mmushrooms.csv\u001b[39m\u001b[39m'\u001b[39m)\n\u001b[0;32m      6\u001b[0m mushrooms\u001b[39m.\u001b[39mhead()\n",
      "\u001b[1;31mModuleNotFoundError\u001b[0m: No module named 'pywaffle'"
     ]
    }
   ],
   "source": [
    "import pandas as pd\n",
    "import matplotlib.pyplot as plt\n",
    "from pywaffle import Waffle \n",
    "\n",
    "mushrooms = pd.read_csv ('C:\\\\Users\\\\HP\\\\Desktop\\\\-ArewaDS-Machine-Learning-Assignments-\\\\Data\\\\mushrooms.csv')\n",
    "mushrooms.head()\n",
    "\n",
    "habitat=mushrooms.groupby(['habitat']).count()\n",
    "habitat\n",
    "\n",
    "labels=['Grasses','Leaves','Meadows','Paths','Urban','Waste','Wood']\n",
    "\n",
    "plt.pie(habitat['class'], labels=labels,\n",
    "        autopct='%1.1f%%', pctdistance=0.85)\n",
    "  \n",
    "center_circle = plt.Circle((0, 0), 0.40, fc='white')\n",
    "fig = plt.gcf()\n",
    "\n",
    "fig.gca().add_artist(center_circle)\n",
    "  \n",
    "plt.title('Mushroom Habitats')\n",
    "  \n",
    "plt.show()"
   ]
  }
 ],
 "metadata": {
  "kernelspec": {
   "display_name": "base",
   "language": "python",
   "name": "python3"
  },
  "language_info": {
   "name": "python",
   "version": "3.9.13"
  },
  "orig_nbformat": 4
 },
 "nbformat": 4,
 "nbformat_minor": 2
}
