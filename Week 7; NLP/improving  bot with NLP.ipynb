{
 "cells": [
  {
   "cell_type": "code",
   "execution_count": 4,
   "metadata": {},
   "outputs": [
    {
     "name": "stdout",
     "output_type": "stream",
     "text": [
      "Bot: Hmm, that's not great. \n",
      "Bot: Well, that sounds positive. \n"
     ]
    }
   ],
   "source": [
    "from textblob import TextBlob\n",
    "from textblob.np_extractors import ConllExtractor\n",
    "# import and create a Conll extractor to use later \n",
    "extractor = ConllExtractor() #ConllExtractor is \"A noun phrase extractor that uses chunk parsing trained with the ConLL-2000 training corpus.\" \n",
    "\n",
    "     \n",
    "\n",
    "while True:\n",
    "    user_input = input(\"Hello, I am Marvin, the simple robot. You can end this conversation at any time by typing 'bye'\\n\"\n",
    "                       \"After typing each answer, press 'enter': \")\n",
    "    if user_input == \"bye\":\n",
    "      break\n",
    "    else:\n",
    "      user_input_blob = TextBlob(user_input, np_extractor=extractor)  # note non-default extractor specified\n",
    "      np = user_input_blob.noun_phrases  \n",
    "    \n",
    "    if user_input_blob.polarity <= -0.5:\n",
    "      response = \"Oh dear, that sounds bad. \"\n",
    "    elif user_input_blob.polarity <= 0:\n",
    "      response = \"Hmm, that's not great. \"\n",
    "    elif user_input_blob.polarity <= 0.5:\n",
    "      response = \"Well, that sounds positive. \"\n",
    "    elif user_input_blob.polarity <= 1:\n",
    "      response = \"Wow, that sounds great. \"   \n",
    "    print(\"Bot:\", response)                          "
   ]
  }
 ],
 "metadata": {
  "kernelspec": {
   "display_name": "Python 3",
   "language": "python",
   "name": "python3"
  },
  "language_info": {
   "codemirror_mode": {
    "name": "ipython",
    "version": 3
   },
   "file_extension": ".py",
   "mimetype": "text/x-python",
   "name": "python",
   "nbconvert_exporter": "python",
   "pygments_lexer": "ipython3",
   "version": "3.11.3"
  },
  "orig_nbformat": 4
 },
 "nbformat": 4,
 "nbformat_minor": 2
}
