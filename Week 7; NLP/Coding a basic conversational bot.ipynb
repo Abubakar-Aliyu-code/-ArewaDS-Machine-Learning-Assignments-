{
 "cells": [
  {
   "attachments": {},
   "cell_type": "markdown",
   "metadata": {},
   "source": [
    "A conversational bot, like Eliza, is a program that elicits user input and seems to understand and respond intelligently. Unlike Eliza, our bot will not have several rules giving it the appearance of having an intelligent conversation. Instead, our bot will have one ability only, to keep the conversation going with random responses that might work in almost any trivial conversation.\n",
    "\n",
    "Your steps when building a conversational bot:\n",
    "\n",
    "Print instructions advising the user how to interact with the bot\n",
    "Start a loop\n",
    "Accept user input\n",
    "If user has asked to exit, then exit\n",
    "Process user input and determine response (in this case, the response is a random choice from a list of possible generic responses)\n",
    "Print response\n",
    "loop back to step 2"
   ]
  },
  {
   "cell_type": "code",
   "execution_count": 24,
   "metadata": {},
   "outputs": [
    {
     "name": "stdout",
     "output_type": "stream",
     "text": [
      "Hello, I am Marvin, the simple robot.\n",
      "You can end this conversation at any time by typing 'bye'\n",
      "After typing each answer, press 'enter'\n",
      "How are you today?\n"
     ]
    }
   ],
   "source": [
    "random_responses = [\"That is quite interesting, please tell me more.\",\n",
    "                    \"I see. Do go on.\",\n",
    "                    \"Why do you say that?\",\n",
    "                    \"Funny weather we've been having, isn't it?\",\n",
    "                    \"Let's change the subject.\",\n",
    "                    \"Did you catch the game last night?\"]\n",
    "\n",
    "print (\"Hello, I am Marvin, the simple robot.\\n\" \n",
    "       \"You can end this conversation at any time by typing 'bye'\\n\" \n",
    "       \"After typing each answer, press 'enter'\\n\" \n",
    "       \"How are you today?\")\n",
    "       \n",
    "user_input = str(input ('>'))\n",
    "while user_input !='enter':\n",
    "    \n",
    "    "
   ]
  }
 ],
 "metadata": {
  "kernelspec": {
   "display_name": "base",
   "language": "python",
   "name": "python3"
  },
  "language_info": {
   "codemirror_mode": {
    "name": "ipython",
    "version": 3
   },
   "file_extension": ".py",
   "mimetype": "text/x-python",
   "name": "python",
   "nbconvert_exporter": "python",
   "pygments_lexer": "ipython3",
   "version": "3.9.13"
  },
  "orig_nbformat": 4
 },
 "nbformat": 4,
 "nbformat_minor": 2
}
