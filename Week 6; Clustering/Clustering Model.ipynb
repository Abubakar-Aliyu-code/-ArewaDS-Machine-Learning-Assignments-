{
 "cells": [
  {
   "attachments": {},
   "cell_type": "markdown",
   "metadata": {},
   "source": [
    "Sometimes K-Means is not appropriate for your data. I am going to create a model using different clustering method NOT using K-Means. "
   ]
  },
  {
   "cell_type": "code",
   "execution_count": 14,
   "metadata": {},
   "outputs": [],
   "source": [
    "import matplotlib.pyplot as plt\n",
    "import pandas as pd\n",
    "import seaborn as sns\n",
    "\n",
    "df = pd.read_csv(\"C:\\\\Users\\\\HP\\\\Desktop\\\\-ArewaDS-Machine-Learning-Assignments--1\\\\Data\\\\nigerian-songs.csv\")\n",
    "df.tail()\n",
    "#This data is a little noisy: by observing each column as a boxplot, you can see outliers.\n",
    "#You could go through the dataset and remove these outliers, but that would make the data \n",
    "# pretty minimal. For now, choose which columns you will use for your clustering exercise. \n",
    "# Pick ones with similar ranges and encode the artist_top_genre column as numeric data:\n",
    "\n",
    "from sklearn.preprocessing import LabelEncoder\n",
    "le = LabelEncoder()\n",
    "\n",
    "X = df.loc[:, ('artist_top_genre','popularity','danceability','acousticness','loudness','energy')]\n",
    "\n",
    "y = df['artist_top_genre']\n",
    "\n",
    "X['artist_top_genre'] = le.fit_transform(X['artist_top_genre'])\n",
    "\n",
    "y = le.transform(y)\n",
    "\n",
    "#Now you need to pick how many clusters to target. You know there are 3 song genres that we carved out of the dataset, so let's try 3:\n",
    "\n",
    "from sklearn.cluster import dbscan\n",
    "\n",
    "\n",
    "\n",
    "\n"
   ]
  }
 ],
 "metadata": {
  "language_info": {
   "name": "python"
  },
  "orig_nbformat": 4
 },
 "nbformat": 4,
 "nbformat_minor": 2
}
